{
 "cells": [
  {
   "cell_type": "code",
   "execution_count": 1,
   "metadata": {},
   "outputs": [
    {
     "name": "stdout",
     "output_type": "stream",
     "text": [
      "Extracted peer IDs:\n",
      "777000\n",
      "888000\n",
      "999000\n"
     ]
    }
   ],
   "source": [
    "from bs4 import BeautifulSoup\n",
    "import re\n",
    "\n",
    "\n",
    "def extract_peer_ids(html_content):\n",
    "    soup = BeautifulSoup(html_content, \"html.parser\")\n",
    "\n",
    "    # Find all div tags with class \"Avatar\"\n",
    "    avatar_divs = soup.find_all(\"div\", class_=\"Avatar\")\n",
    "\n",
    "    # Extract data-peer-id attributes\n",
    "    peer_ids = [\n",
    "        div.get(\"data-peer-id\") for div in avatar_divs if div.get(\"data-peer-id\")\n",
    "    ]\n",
    "\n",
    "    return peer_ids\n",
    "\n",
    "\n",
    "# Example HTML content\n",
    "html_content = \"\"\"\n",
    "<div class=\"Avatar size-large peer-color-0\" id=\"peer-story777000\" data-peer-id=\"777000\" style=\"\">\n",
    "</div>\n",
    "<div class=\"Avatar size-medium peer-color-1\" id=\"peer-story888000\" data-peer-id=\"888000\" style=\"\">\n",
    "</div>\n",
    "<div class=\"Avatar size-small peer-color-2\" id=\"peer-story999000\" data-peer-id=\"999000\" style=\"\">\n",
    "</div>\n",
    "\"\"\"\n",
    "\n",
    "# Extract peer IDs\n",
    "peer_ids = extract_peer_ids(html_content)\n",
    "\n",
    "# Print the results\n",
    "print(\"Extracted peer IDs:\")\n",
    "for peer_id in peer_ids:\n",
    "    print(peer_id)"
   ]
  },
  {
   "cell_type": "code",
   "execution_count": 3,
   "metadata": {},
   "outputs": [
    {
     "name": "stdout",
     "output_type": "stream",
     "text": [
      "Extracted peer IDs:\n",
      "-1001271340650\n",
      "-1001445841198\n",
      "777000\n",
      "5597485973\n",
      "-1001271340650\n",
      "889169583\n",
      "1034522768\n",
      "5495272248\n",
      "5956004961\n",
      "1034522768\n",
      "5956004961\n",
      "1469771002\n",
      "6770080840\n",
      "1928892724\n",
      "5502313341\n",
      "-1001394709967\n",
      "-1001394709967\n",
      "-1001394709967\n",
      "-1001394709967\n",
      "-1001394709967\n",
      "-1001394709967\n",
      "-1001394709967\n",
      "605626217\n",
      "5063555239\n",
      "7015775633\n",
      "605626217\n",
      "6864880221\n",
      "6606365860\n",
      "742015374\n",
      "6606365860\n",
      "7015775633\n",
      "1670876624\n",
      "6606365860\n",
      "1831928812\n",
      "5214763271\n",
      "7444300167\n",
      "536417818\n",
      "6524157704\n",
      "7015775633\n",
      "7321831041\n",
      "889169583\n",
      "1050954529\n",
      "1287492074\n",
      "1629538930\n"
     ]
    }
   ],
   "source": [
    "from bs4 import BeautifulSoup\n",
    "import re\n",
    "\n",
    "def extract_peer_ids(html_file_path):\n",
    "    # Read the HTML file\n",
    "    with open(html_file_path, 'r', encoding='utf-8') as file:\n",
    "        html_content = file.read()\n",
    "\n",
    "    soup = BeautifulSoup(html_content, \"html.parser\")\n",
    "\n",
    "    # Find all div tags with class \"Avatar\"\n",
    "    avatar_divs = soup.find_all(\"div\", class_=\"Avatar\")\n",
    "\n",
    "    # Extract data-peer-id attributes\n",
    "    peer_ids = [\n",
    "        div.get(\"data-peer-id\") for div in avatar_divs if div.get(\"data-peer-id\")\n",
    "    ]\n",
    "\n",
    "    return peer_ids\n",
    "\n",
    "# Specify the path to your HTML file\n",
    "html_file_path = 'a.html'\n",
    "\n",
    "# Extract peer IDs\n",
    "peer_ids = extract_peer_ids(html_file_path)\n",
    "\n",
    "# Print the results\n",
    "print(\"Extracted peer IDs:\")\n",
    "for peer_id in peer_ids:\n",
    "    print(peer_id)"
   ]
  }
 ],
 "metadata": {
  "kernelspec": {
   "display_name": "Python 3",
   "language": "python",
   "name": "python3"
  },
  "language_info": {
   "codemirror_mode": {
    "name": "ipython",
    "version": 3
   },
   "file_extension": ".py",
   "mimetype": "text/x-python",
   "name": "python",
   "nbconvert_exporter": "python",
   "pygments_lexer": "ipython3",
   "version": "3.12.3"
  }
 },
 "nbformat": 4,
 "nbformat_minor": 2
}
